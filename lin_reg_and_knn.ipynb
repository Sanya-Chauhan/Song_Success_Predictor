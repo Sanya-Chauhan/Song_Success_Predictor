{
 "cells": [
  {
   "cell_type": "code",
   "execution_count": 14,
   "metadata": {},
   "outputs": [],
   "source": [
    "import pandas as pd\n",
    "from sklearn.model_selection import train_test_split\n",
    "from sklearn.preprocessing import StandardScaler\n",
    "from sklearn.linear_model import LogisticRegression\n",
    "from sklearn.metrics import accuracy_score, f1_score, confusion_matrix, classification_report\n",
    "from sklearn.neighbors import KNeighborsClassifier\n",
    "from sklearn.metrics import mean_absolute_error\n",
    "from sklearn.model_selection import cross_val_score\n",
    "from sklearn.neighbors import KNeighborsClassifier\n",
    "from sklearn.linear_model import LinearRegression\n",
    "from sklearn.metrics import mean_squared_error, r2_score\n",
    "from sklearn.linear_model import LinearRegression, Ridge\n",
    "import pickle"
   ]
  },
  {
   "cell_type": "code",
   "execution_count": 4,
   "metadata": {},
   "outputs": [
    {
     "name": "stdout",
     "output_type": "stream",
     "text": [
      "51000\n",
      "204000\n"
     ]
    }
   ],
   "source": [
    "# Load dataset\n",
    "test = pd.read_csv('/Users/sanyachauhan/Desktop/my_folder/data/new_reg/test_regression.csv')\n",
    "train = pd.read_csv('/Users/sanyachauhan/Desktop/my_folder/data/new_reg/train_regression.csv')\n",
    "\n",
    "print(len(test))\n",
    "print(len(train))"
   ]
  },
  {
   "cell_type": "code",
   "execution_count": 5,
   "metadata": {},
   "outputs": [],
   "source": [
    "X_train = train.drop([\"popularity\"], axis=1)\n",
    "X_test = test.drop([\"popularity\"], axis=1)\n",
    "\n",
    "y_train = train[\"popularity\"]\n",
    "y_test = test[\"popularity\"]"
   ]
  },
  {
   "cell_type": "code",
   "execution_count": 6,
   "metadata": {},
   "outputs": [],
   "source": [
    "# Standardize the features\n",
    "scaler = StandardScaler()\n",
    "X_train = scaler.fit_transform(X_train)\n",
    "X_test = scaler.transform(X_test)"
   ]
  },
  {
   "cell_type": "markdown",
   "metadata": {},
   "source": [
    "## Linear Regression"
   ]
  },
  {
   "cell_type": "code",
   "execution_count": 15,
   "metadata": {},
   "outputs": [
    {
     "name": "stdout",
     "output_type": "stream",
     "text": [
      "Linear Regression Metrics: {'R2': 0.37153048834385405, 'MAE': 9.533896362185061}\n",
      "Generalized Linear Regression Metrics: {'R2': 0.37153030498403705, 'MAE': 9.533902061137287}\n"
     ]
    }
   ],
   "source": [
    "# Linear Regression\n",
    "lin_reg = LinearRegression()\n",
    "lin_reg.fit(X_train, y_train)\n",
    "y_pred_lin_reg = lin_reg.predict(X_test)\n",
    "\n",
    "# Generalized Linear Regression (using Ridge Regression as an example)\n",
    "ridge_reg = Ridge()\n",
    "ridge_reg.fit(X_train, y_train)\n",
    "y_pred_ridge = ridge_reg.predict(X_test)\n",
    "\n",
    "# Calculating metrics for Linear Regression\n",
    "linear_regression_metrics = {\n",
    "    \"R2\": r2_score(y_test, y_pred_lin_reg),\n",
    "    \"MAE\": mean_absolute_error(y_test, y_pred_lin_reg)\n",
    "}\n",
    "\n",
    "# Calculating metrics for Generalized Linear Regression\n",
    "generalized_linear_regression_metrics = {\n",
    "    \"R2\": r2_score(y_test, y_pred_ridge),\n",
    "    \"MAE\": mean_absolute_error(y_test, y_pred_ridge)\n",
    "}\n",
    "\n",
    "print(\"Linear Regression Metrics:\", linear_regression_metrics)\n",
    "print(\"Generalized Linear Regression Metrics:\", generalized_linear_regression_metrics)\n",
    "\n"
   ]
  },
  {
   "cell_type": "code",
   "execution_count": 22,
   "metadata": {},
   "outputs": [],
   "source": [
    "pickle.dump(lin_reg, open('/Users/sanyachauhan/Desktop/my_folder/models/new_reg/linear.sav', 'wb'))\n",
    "pickle.dump(ridge_reg, open('/Users/sanyachauhan/Desktop/my_folder/models/new_reg/ridgeGLM.sav', 'wb'))"
   ]
  },
  {
   "cell_type": "markdown",
   "metadata": {},
   "source": [
    "## GLM"
   ]
  },
  {
   "cell_type": "code",
   "execution_count": 19,
   "metadata": {},
   "outputs": [
    {
     "name": "stdout",
     "output_type": "stream",
     "text": [
      "0.2836993101284494\n",
      "9.533902061137287\n"
     ]
    }
   ],
   "source": [
    "from sklearn.linear_model import TweedieRegressor\n",
    "\n",
    "# Create a generalized linear model\n",
    "# Example: power=0 for Normal, power=1 for Poisson, power=2 for Gamma\n",
    "model_glm = TweedieRegressor(power=0, alpha=1.0)\n",
    "\n",
    "# Fit the model to the training data\n",
    "model_glm.fit(X_train, y_train)\n",
    "\n",
    "# Make predictions on the test data\n",
    "y_pred_glm = model_glm.predict(X_test)\n",
    "\n",
    "# Calculate the mean squared error for GLM\n",
    "mse_glm = mean_squared_error(y_test, y_pred_glm)\n",
    "\n",
    "# Calculate R squared value for GLM\n",
    "r2_glm = r2_score(y_test, y_pred_glm)\n",
    "print(r2_glm)\n",
    "\n",
    "print(mean_absolute_error(y_test, y_pred_ridge))\n"
   ]
  },
  {
   "cell_type": "code",
   "execution_count": 23,
   "metadata": {},
   "outputs": [],
   "source": [
    "pickle.dump(model_glm, open('/Users/sanyachauhan/Desktop/my_folder/models/new_reg/glm.sav', 'wb'))"
   ]
  },
  {
   "cell_type": "markdown",
   "metadata": {},
   "source": [
    "## k-Nearest Neighbours - Regression"
   ]
  },
  {
   "cell_type": "code",
   "execution_count": 20,
   "metadata": {},
   "outputs": [
    {
     "name": "stdout",
     "output_type": "stream",
     "text": [
      "Best K: 23\n",
      "Best Score (Negative MAE): -9.38358567774936\n",
      "K-Nearest Neighbors Regression Metrics with Best K: {'R2': 0.3800011471907332, 'MAE': 9.392740835464622}\n"
     ]
    }
   ],
   "source": [
    "from sklearn.model_selection import train_test_split, GridSearchCV\n",
    "from sklearn.neighbors import KNeighborsRegressor\n",
    "from sklearn.preprocessing import StandardScaler\n",
    "from sklearn.metrics import mean_absolute_error, r2_score\n",
    "\n",
    "\n",
    "# Create KNN Regressor\n",
    "knn = KNeighborsRegressor()\n",
    "\n",
    "# Define a range of k values to test\n",
    "param_grid = {'n_neighbors': range(1, 30)}\n",
    "\n",
    "# Perform Grid Search with Cross-Validation\n",
    "grid_search = GridSearchCV(knn, param_grid, cv=5, scoring='neg_mean_absolute_error')\n",
    "grid_search.fit(X_train, y_train)\n",
    "\n",
    "# Best parameter and score\n",
    "best_k = grid_search.best_params_['n_neighbors']\n",
    "best_score = grid_search.best_score_\n",
    "\n",
    "print(\"Best K:\", best_k)\n",
    "print(\"Best Score (Negative MAE):\", best_score)\n",
    "\n",
    "# Using the best K value to predict on test data\n",
    "best_knn = KNeighborsRegressor(n_neighbors=best_k)\n",
    "best_knn.fit(X_train, y_train)\n",
    "y_pred_best_knn = best_knn.predict(X_test)\n",
    "\n",
    "# Calculating metrics for KNN Regression with best K\n",
    "best_knn_metrics = {\n",
    "    \"R2\": r2_score(y_test, y_pred_best_knn),\n",
    "    \"MAE\": mean_absolute_error(y_test, y_pred_best_knn)\n",
    "}\n",
    "\n",
    "print(\"K-Nearest Neighbors Regression Metrics with Best K:\", best_knn_metrics)\n"
   ]
  },
  {
   "cell_type": "code",
   "execution_count": 21,
   "metadata": {},
   "outputs": [],
   "source": [
    "pickle.dump(best_knn, open('/Users/sanyachauhan/Desktop/my_folder/models/new_reg/knnreg_bestk23.sav', 'wb'))"
   ]
  }
 ],
 "metadata": {
  "kernelspec": {
   "display_name": "Python 3 (ipykernel)",
   "language": "python",
   "name": "python3"
  },
  "language_info": {
   "codemirror_mode": {
    "name": "ipython",
    "version": 3
   },
   "file_extension": ".py",
   "mimetype": "text/x-python",
   "name": "python",
   "nbconvert_exporter": "python",
   "pygments_lexer": "ipython3",
   "version": "3.10.0"
  }
 },
 "nbformat": 4,
 "nbformat_minor": 4
}
