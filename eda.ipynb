{
 "cells": [
  {
   "cell_type": "code",
   "execution_count": null,
   "metadata": {},
   "outputs": [],
   "source": [
    "import pandas as pd\n",
    "import plotly.express as px\n",
    "import matplotlib.pyplot as plt\n",
    "import seaborn as sns\n",
    "import numpy as np"
   ]
  },
  {
   "cell_type": "code",
   "execution_count": null,
   "metadata": {},
   "outputs": [],
   "source": [
    "df = pd.read_csv('data/spotify_data.csv')"
   ]
  },
  {
   "cell_type": "markdown",
   "metadata": {},
   "source": [
    "## Distribution analysis"
   ]
  },
  {
   "cell_type": "code",
   "execution_count": null,
   "metadata": {},
   "outputs": [],
   "source": [
    "genre_distribution = df['genre'].value_counts().reset_index()\n",
    "genre_distribution.columns = ['Genre', 'Count']\n",
    "fig = px.bar(genre_distribution, x='Genre', y='Count', title='Distribution of Songs Across Genres')\n",
    "fig.update_layout(xaxis_title='Genre', yaxis_title='Count')\n",
    "fig.show()"
   ]
  },
  {
   "cell_type": "markdown",
   "metadata": {},
   "source": [
    "#### The chart isn't too readable. Checking top 15 songs across different genres"
   ]
  },
  {
   "cell_type": "code",
   "execution_count": null,
   "metadata": {},
   "outputs": [],
   "source": [
    "genre_distribution = df['genre'].value_counts().reset_index().head(15)\n",
    "genre_distribution.columns = ['Genre', 'Count']\n",
    "fig = px.bar(genre_distribution, x='Genre', y='Count', title='Top 15 Songs Across Genres')\n",
    "fig.update_layout(xaxis_title='Genre', yaxis_title='Count')\n",
    "fig.show()"
   ]
  },
  {
   "cell_type": "markdown",
   "metadata": {},
   "source": [
    "### Black-metal, gospel and ambient are the top 3 songs across different genres"
   ]
  },
  {
   "cell_type": "code",
   "execution_count": null,
   "metadata": {},
   "outputs": [],
   "source": [
    "numerical_attributes = ['danceability', 'energy', 'loudness', 'speechiness', 'acousticness', 'instrumentalness', 'liveness', 'valence', 'tempo', 'duration_ms', 'popularity']\n",
    "\n",
    "for attribute in numerical_attributes:\n",
    "    fig = px.histogram(df, x=attribute, title=f'Histogram of {attribute}')\n",
    "    fig.show()\n"
   ]
  },
  {
   "cell_type": "markdown",
   "metadata": {},
   "source": [
    "### Popularity does not have a good distribution. Thus, we sub-set the data from 1 to 40 and rescale it from 1-10."
   ]
  },
  {
   "cell_type": "code",
   "execution_count": null,
   "metadata": {},
   "outputs": [],
   "source": [
    "df_popular= df[(df['popularity'] > 0) & (df ['popularity']<41)]\n",
    "df_popular"
   ]
  },
  {
   "cell_type": "code",
   "execution_count": null,
   "metadata": {},
   "outputs": [],
   "source": [
    "fig = px.histogram(df_popular, x='popularity', title=f'Histogram of popularity')\n",
    "fig.show()"
   ]
  },
  {
   "cell_type": "markdown",
   "metadata": {},
   "source": [
    "### New distribution of popularity looks even"
   ]
  },
  {
   "cell_type": "code",
   "execution_count": null,
   "metadata": {},
   "outputs": [],
   "source": [
    "genre_counts"
   ]
  },
  {
   "cell_type": "markdown",
   "metadata": {},
   "source": [
    "### We should eliminate the 'songwriter' genre"
   ]
  },
  {
   "cell_type": "markdown",
   "metadata": {},
   "source": [
    "## Correlation analysis"
   ]
  },
  {
   "cell_type": "code",
   "execution_count": null,
   "metadata": {},
   "outputs": [],
   "source": [
    "numerical_attributes = ['popularity', 'danceability', 'energy', 'key', 'loudness', 'mode', 'speechiness', 'acousticness', 'instrumentalness', 'liveness', 'valence', 'tempo', 'duration_ms', 'time_signature']\n",
    "correlation_matrix = df[numerical_attributes].corr()\n",
    "\n",
    "plt.figure(figsize=(12, 8))\n",
    "sns.heatmap(correlation_matrix, annot=True, cmap='coolwarm', fmt=\".2f\", linewidths=.5)\n",
    "plt.title('Correlation Matrix of Numerical Variables')\n",
    "plt.show()"
   ]
  },
  {
   "cell_type": "markdown",
   "metadata": {},
   "source": [
    "### Energy looks somewhat highly correlated with accousticness and loudness. Whether or not to drop these features would be determined by the feature selection analysis"
   ]
  },
  {
   "cell_type": "markdown",
   "metadata": {},
   "source": [
    "## Outlier analysis"
   ]
  },
  {
   "cell_type": "markdown",
   "metadata": {},
   "source": [
    "![outlier analysis](https://di.samizdat.co/2020/content/images/2020/01/image-3.png)"
   ]
  },
  {
   "cell_type": "code",
   "execution_count": null,
   "metadata": {},
   "outputs": [],
   "source": [
    "numerical_attributes = ['popularity', 'danceability', 'energy', 'key', 'loudness', 'mode', 'speechiness', 'acousticness', 'instrumentalness', 'liveness', 'valence', 'tempo', 'duration_ms', 'time_signature']\n",
    "\n",
    "def analyze_numerical_attribute(attribute):\n",
    "    Q1 = np.percentile(df[attribute], 25)\n",
    "    Q2 = np.percentile(df[attribute], 50)\n",
    "    Q3 = np.percentile(df[attribute], 75)\n",
    "    IQR = Q3 - Q1\n",
    "    lower_bound = Q1 - 1.5 * IQR\n",
    "    upper_bound = Q3 + 1.5 * IQR\n",
    "    outliers = df[(df[attribute] < lower_bound) | (df[attribute] > upper_bound)]\n",
    "    percentage_outliers = (len(outliers) / len(df)) * 100\n",
    "    skewness = df[attribute].skew()\n",
    "    \n",
    "    if skewness > 1:\n",
    "        skew_type = 'Right-skewed'\n",
    "    elif skewness < -1:\n",
    "        skew_type = 'Left-skewed'\n",
    "    else:\n",
    "        skew_type = 'Normal'\n",
    "    \n",
    "    print(f'Attribute: {attribute}')\n",
    "    print(f'Q1 (25th percentile): {Q1:.2f}')\n",
    "    print(f'Median (Q2, 50th percentile): {Q2:.2f}')\n",
    "    print(f'Q3 (75th percentile): {Q3:.2f}')\n",
    "    print(f'IQR (Interquartile Range): {IQR:.2f}')\n",
    "    print(f'Percentage of data outside outlier range (Q1-1.5*IQR and Q3+1.5*IQR): {percentage_outliers:.2f}%')\n",
    "    print(f'Skewness: {skewness:.2f} ({skew_type})\\n')\n",
    "\n",
    "for attribute in numerical_attributes:\n",
    "    analyze_numerical_attribute(attribute)\n"
   ]
  },
  {
   "cell_type": "code",
   "execution_count": null,
   "metadata": {},
   "outputs": [],
   "source": [
    "genre_popularity = df.groupby('genre')['popularity'].mean().sort_values(ascending=False)\n",
    "plt.figure(figsize=(12, 6))\n",
    "genre_popularity.plot(kind='bar', color='skyblue')\n",
    "plt.title('Average Popularity by Genre')\n",
    "plt.xlabel('Genre')\n",
    "plt.ylabel('Average Popularity')\n",
    "plt.xticks(rotation=90)\n",
    "plt.tight_layout()\n",
    "\n",
    "plt.show()\n"
   ]
  },
  {
   "cell_type": "code",
   "execution_count": null,
   "metadata": {},
   "outputs": [],
   "source": [
    "genre_popularity = df.groupby('genre')['popularity'].mean().sort_values(ascending=False).head(10)\n",
    "plt.figure(figsize=(12, 6))\n",
    "genre_popularity.plot(kind='bar', color='skyblue')\n",
    "plt.title('Average Popularity by Genre')\n",
    "plt.xlabel('Genre')\n",
    "plt.ylabel('Average Popularity')\n",
    "plt.xticks(rotation=90)\n",
    "plt.tight_layout()\n",
    "\n",
    "plt.show()\n"
   ]
  },
  {
   "cell_type": "markdown",
   "metadata": {},
   "source": [
    "### pop genre is the most popular"
   ]
  },
  {
   "cell_type": "code",
   "execution_count": null,
   "metadata": {},
   "outputs": [],
   "source": [
    "missing_data = df.isnull().sum()\n",
    "print(\"Number of missing data in each variable:\")\n",
    "print(missing_data)"
   ]
  },
  {
   "cell_type": "markdown",
   "metadata": {},
   "source": [
    "### data does not have missing values. We do not use the artist_name column in our analysis."
   ]
  },
  {
   "cell_type": "code",
   "execution_count": null,
   "metadata": {},
   "outputs": [],
   "source": [
    "descriptive_stats = df.describe(include='all')\n",
    "descriptive_stats"
   ]
  }
 ],
 "metadata": {
  "kernelspec": {
   "display_name": "Python 3",
   "language": "python",
   "name": "python3"
  },
  "language_info": {
   "codemirror_mode": {
    "name": "ipython",
    "version": 3
   },
   "file_extension": ".py",
   "mimetype": "text/x-python",
   "name": "python",
   "nbconvert_exporter": "python",
   "pygments_lexer": "ipython3",
   "version": "3.11.3"
  }
 },
 "nbformat": 4,
 "nbformat_minor": 2
}
