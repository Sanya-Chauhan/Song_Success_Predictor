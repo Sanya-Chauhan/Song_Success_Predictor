{
 "cells": [
  {
   "cell_type": "code",
   "execution_count": 11,
   "metadata": {},
   "outputs": [],
   "source": [
    "import pandas as pd\n",
    "from sklearn.model_selection import train_test_split\n",
    "from sklearn.preprocessing import StandardScaler\n",
    "from sklearn.svm import SVC\n",
    "import pickle\n",
    "import time\n",
    "from sklearn.metrics import accuracy_score, precision_score, recall_score, f1_score, mean_absolute_error"
   ]
  },
  {
   "cell_type": "code",
   "execution_count": 4,
   "metadata": {},
   "outputs": [],
   "source": [
    "df_train = pd.read_csv('data/train.csv')\n",
    "df_test = pd.read_csv('data/test.csv')"
   ]
  },
  {
   "cell_type": "code",
   "execution_count": 5,
   "metadata": {},
   "outputs": [],
   "source": [
    "X_train = df_train.drop(columns=['popularity'])\n",
    "X_test= df_test.drop(columns=['popularity'])\n",
    "y_train=df_train['popularity']\n",
    "y_test=df_test['popularity']"
   ]
  },
  {
   "cell_type": "code",
   "execution_count": null,
   "metadata": {},
   "outputs": [],
   "source": [
    "# Feature scaling\n",
    "scaler = StandardScaler()\n",
    "X_train_scaled = scaler.fit_transform(X_train)\n",
    "X_test_scaled = scaler.transform(X_test)"
   ]
  },
  {
   "cell_type": "code",
   "execution_count": null,
   "metadata": {},
   "outputs": [],
   "source": [
    "# SVM model\n",
    "svm_model = SVC(kernel='rbf', random_state=42)\n",
    "svm_model.fit(X_train_scaled, y_train)"
   ]
  },
  {
   "cell_type": "code",
   "execution_count": null,
   "metadata": {},
   "outputs": [],
   "source": [
    "y_pred = svm_model.predict(X_test_scaled)\n",
    "X_test['predicted_popularity'] = y_pred\n"
   ]
  },
  {
   "cell_type": "code",
   "execution_count": 10,
   "metadata": {},
   "outputs": [
    {
     "name": "stdout",
     "output_type": "stream",
     "text": [
      "SVM Evaluation Metrics:\n",
      "Accuracy: 0.21195833333333333\n",
      "Precision: 0.1892904085782484\n",
      "Recall: 0.21230573493038835\n",
      "F1 Score: 0.19166571832109422\n",
      "Mean Absolute Error (MAE): 2.29125\n"
     ]
    }
   ],
   "source": [
    "# Evaluation metrics\n",
    "accuracy = accuracy_score(y_test, y_pred)\n",
    "precision = precision_score(y_test, y_pred, average='macro')\n",
    "recall = recall_score(y_test, y_pred, average='macro')\n",
    "f1 = f1_score(y_test, y_pred, average='macro')\n",
    "mae = mean_absolute_error(y_test, y_pred) \n",
    "\n",
    "print(\"SVM Evaluation Metrics:\")\n",
    "print(f\"Accuracy: {accuracy}\")\n",
    "print(f\"Precision: {precision}\")\n",
    "print(f\"Recall: {recall}\")\n",
    "print(f\"F1 Score: {f1}\")\n",
    "print(f\"Mean Absolute Error (MAE): {mae}\")  "
   ]
  },
  {
   "cell_type": "code",
   "execution_count": null,
   "metadata": {},
   "outputs": [],
   "source": [
    "X_test.to_csv('svm_preds.csv', index=False)"
   ]
  },
  {
   "cell_type": "code",
   "execution_count": 9,
   "metadata": {},
   "outputs": [
    {
     "data": {
      "text/html": [
       "<div>\n",
       "<style scoped>\n",
       "    .dataframe tbody tr th:only-of-type {\n",
       "        vertical-align: middle;\n",
       "    }\n",
       "\n",
       "    .dataframe tbody tr th {\n",
       "        vertical-align: top;\n",
       "    }\n",
       "\n",
       "    .dataframe thead th {\n",
       "        text-align: right;\n",
       "    }\n",
       "</style>\n",
       "<table border=\"1\" class=\"dataframe\">\n",
       "  <thead>\n",
       "    <tr style=\"text-align: right;\">\n",
       "      <th></th>\n",
       "      <th>danceability</th>\n",
       "      <th>energy</th>\n",
       "      <th>loudness</th>\n",
       "      <th>speechiness</th>\n",
       "      <th>acousticness</th>\n",
       "      <th>instrumentalness</th>\n",
       "      <th>liveness</th>\n",
       "      <th>valence</th>\n",
       "      <th>tempo</th>\n",
       "      <th>duration_ms</th>\n",
       "      <th>...</th>\n",
       "      <th>genre_sleep</th>\n",
       "      <th>genre_songwriter</th>\n",
       "      <th>genre_soul</th>\n",
       "      <th>genre_spanish</th>\n",
       "      <th>genre_swedish</th>\n",
       "      <th>genre_tango</th>\n",
       "      <th>genre_techno</th>\n",
       "      <th>genre_trance</th>\n",
       "      <th>genre_trip-hop</th>\n",
       "      <th>predicted_popularity</th>\n",
       "    </tr>\n",
       "  </thead>\n",
       "  <tbody>\n",
       "    <tr>\n",
       "      <th>0</th>\n",
       "      <td>0.188</td>\n",
       "      <td>0.1740</td>\n",
       "      <td>-17.443</td>\n",
       "      <td>0.0526</td>\n",
       "      <td>0.986000</td>\n",
       "      <td>0.95900</td>\n",
       "      <td>0.1180</td>\n",
       "      <td>0.033</td>\n",
       "      <td>138.386</td>\n",
       "      <td>249685</td>\n",
       "      <td>...</td>\n",
       "      <td>0</td>\n",
       "      <td>0</td>\n",
       "      <td>0</td>\n",
       "      <td>0</td>\n",
       "      <td>0</td>\n",
       "      <td>0</td>\n",
       "      <td>0</td>\n",
       "      <td>0</td>\n",
       "      <td>0</td>\n",
       "      <td>6</td>\n",
       "    </tr>\n",
       "    <tr>\n",
       "      <th>1</th>\n",
       "      <td>0.351</td>\n",
       "      <td>0.1160</td>\n",
       "      <td>-17.923</td>\n",
       "      <td>0.0575</td>\n",
       "      <td>0.964000</td>\n",
       "      <td>0.00509</td>\n",
       "      <td>0.0571</td>\n",
       "      <td>0.160</td>\n",
       "      <td>79.296</td>\n",
       "      <td>220307</td>\n",
       "      <td>...</td>\n",
       "      <td>0</td>\n",
       "      <td>0</td>\n",
       "      <td>0</td>\n",
       "      <td>0</td>\n",
       "      <td>0</td>\n",
       "      <td>0</td>\n",
       "      <td>0</td>\n",
       "      <td>0</td>\n",
       "      <td>0</td>\n",
       "      <td>1</td>\n",
       "    </tr>\n",
       "    <tr>\n",
       "      <th>2</th>\n",
       "      <td>0.447</td>\n",
       "      <td>0.8550</td>\n",
       "      <td>-4.370</td>\n",
       "      <td>0.0308</td>\n",
       "      <td>0.000417</td>\n",
       "      <td>0.54500</td>\n",
       "      <td>0.1070</td>\n",
       "      <td>0.305</td>\n",
       "      <td>172.989</td>\n",
       "      <td>343787</td>\n",
       "      <td>...</td>\n",
       "      <td>0</td>\n",
       "      <td>0</td>\n",
       "      <td>0</td>\n",
       "      <td>0</td>\n",
       "      <td>0</td>\n",
       "      <td>0</td>\n",
       "      <td>0</td>\n",
       "      <td>0</td>\n",
       "      <td>0</td>\n",
       "      <td>10</td>\n",
       "    </tr>\n",
       "    <tr>\n",
       "      <th>3</th>\n",
       "      <td>0.280</td>\n",
       "      <td>0.0196</td>\n",
       "      <td>-33.097</td>\n",
       "      <td>0.0396</td>\n",
       "      <td>0.994000</td>\n",
       "      <td>0.83700</td>\n",
       "      <td>0.0724</td>\n",
       "      <td>0.159</td>\n",
       "      <td>141.511</td>\n",
       "      <td>103960</td>\n",
       "      <td>...</td>\n",
       "      <td>0</td>\n",
       "      <td>0</td>\n",
       "      <td>0</td>\n",
       "      <td>0</td>\n",
       "      <td>0</td>\n",
       "      <td>0</td>\n",
       "      <td>0</td>\n",
       "      <td>0</td>\n",
       "      <td>0</td>\n",
       "      <td>6</td>\n",
       "    </tr>\n",
       "    <tr>\n",
       "      <th>4</th>\n",
       "      <td>0.466</td>\n",
       "      <td>0.1490</td>\n",
       "      <td>-14.804</td>\n",
       "      <td>0.0311</td>\n",
       "      <td>0.810000</td>\n",
       "      <td>0.00419</td>\n",
       "      <td>0.1120</td>\n",
       "      <td>0.279</td>\n",
       "      <td>107.364</td>\n",
       "      <td>188800</td>\n",
       "      <td>...</td>\n",
       "      <td>0</td>\n",
       "      <td>0</td>\n",
       "      <td>0</td>\n",
       "      <td>0</td>\n",
       "      <td>0</td>\n",
       "      <td>0</td>\n",
       "      <td>0</td>\n",
       "      <td>0</td>\n",
       "      <td>0</td>\n",
       "      <td>5</td>\n",
       "    </tr>\n",
       "  </tbody>\n",
       "</table>\n",
       "<p>5 rows × 108 columns</p>\n",
       "</div>"
      ],
      "text/plain": [
       "   danceability  energy  loudness  speechiness  acousticness  \\\n",
       "0         0.188  0.1740   -17.443       0.0526      0.986000   \n",
       "1         0.351  0.1160   -17.923       0.0575      0.964000   \n",
       "2         0.447  0.8550    -4.370       0.0308      0.000417   \n",
       "3         0.280  0.0196   -33.097       0.0396      0.994000   \n",
       "4         0.466  0.1490   -14.804       0.0311      0.810000   \n",
       "\n",
       "   instrumentalness  liveness  valence    tempo  duration_ms  ...  \\\n",
       "0           0.95900    0.1180    0.033  138.386       249685  ...   \n",
       "1           0.00509    0.0571    0.160   79.296       220307  ...   \n",
       "2           0.54500    0.1070    0.305  172.989       343787  ...   \n",
       "3           0.83700    0.0724    0.159  141.511       103960  ...   \n",
       "4           0.00419    0.1120    0.279  107.364       188800  ...   \n",
       "\n",
       "   genre_sleep  genre_songwriter  genre_soul  genre_spanish  genre_swedish  \\\n",
       "0            0                 0           0              0              0   \n",
       "1            0                 0           0              0              0   \n",
       "2            0                 0           0              0              0   \n",
       "3            0                 0           0              0              0   \n",
       "4            0                 0           0              0              0   \n",
       "\n",
       "   genre_tango  genre_techno  genre_trance  genre_trip-hop  \\\n",
       "0            0             0             0               0   \n",
       "1            0             0             0               0   \n",
       "2            0             0             0               0   \n",
       "3            0             0             0               0   \n",
       "4            0             0             0               0   \n",
       "\n",
       "   predicted_popularity  \n",
       "0                     6  \n",
       "1                     1  \n",
       "2                    10  \n",
       "3                     6  \n",
       "4                     5  \n",
       "\n",
       "[5 rows x 108 columns]"
      ]
     },
     "execution_count": 9,
     "metadata": {},
     "output_type": "execute_result"
    }
   ],
   "source": [
    "X_test.head()"
   ]
  },
  {
   "cell_type": "code",
   "execution_count": 12,
   "metadata": {},
   "outputs": [
    {
     "name": "stdout",
     "output_type": "stream",
     "text": [
      "Model saved successfully.\n"
     ]
    }
   ],
   "source": [
    "#saving model\n",
    "with open('svm_model.pkl', 'wb') as file:\n",
    "    pickle.dump(svm_model, file)\n",
    "\n",
    "print(\"Model saved successfully.\")"
   ]
  },
  {
   "cell_type": "code",
   "execution_count": 13,
   "metadata": {},
   "outputs": [],
   "source": [
    "with open('svm_model.pkl', 'rb') as file:\n",
    "    loaded_model = pickle.load(file)"
   ]
  }
 ],
 "metadata": {
  "kernelspec": {
   "display_name": "Python 3",
   "language": "python",
   "name": "python3"
  },
  "language_info": {
   "codemirror_mode": {
    "name": "ipython",
    "version": 3
   },
   "file_extension": ".py",
   "mimetype": "text/x-python",
   "name": "python",
   "nbconvert_exporter": "python",
   "pygments_lexer": "ipython3",
   "version": "3.11.3"
  }
 },
 "nbformat": 4,
 "nbformat_minor": 2
}
