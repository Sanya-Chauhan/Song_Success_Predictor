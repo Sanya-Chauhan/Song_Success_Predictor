{
 "cells": [
  {
   "cell_type": "code",
   "execution_count": 7,
   "metadata": {},
   "outputs": [],
   "source": [
    "import pandas as pd\n",
    "from sklearn.model_selection import train_test_split\n",
    "from sklearn.preprocessing import StandardScaler\n",
    "from sklearn.linear_model import LogisticRegression\n",
    "from sklearn.metrics import accuracy_score, f1_score, confusion_matrix, classification_report\n",
    "from sklearn.neighbors import KNeighborsClassifier\n",
    "from sklearn.metrics import mean_absolute_error\n",
    "from sklearn.model_selection import cross_val_score\n",
    "from sklearn.neighbors import KNeighborsClassifier\n",
    "import pickle"
   ]
  },
  {
   "cell_type": "code",
   "execution_count": 2,
   "metadata": {},
   "outputs": [
    {
     "name": "stdout",
     "output_type": "stream",
     "text": [
      "24000\n",
      "96000\n"
     ]
    }
   ],
   "source": [
    "# Load dataset\n",
    "test = pd.read_csv('data/new/test.csv')\n",
    "train = pd.read_csv('data/new/train.csv')\n",
    "\n",
    "print(len(test))\n",
    "print(len(train))"
   ]
  },
  {
   "cell_type": "code",
   "execution_count": 4,
   "metadata": {},
   "outputs": [],
   "source": [
    "X_train = train.drop([\"popularity\"], axis=1)\n",
    "X_test = test.drop([\"popularity\"], axis=1)\n",
    "\n",
    "y_train = train[\"popularity\"]\n",
    "y_test = test[\"popularity\"]"
   ]
  },
  {
   "cell_type": "code",
   "execution_count": 5,
   "metadata": {},
   "outputs": [],
   "source": [
    "# Standardize the features\n",
    "scaler = StandardScaler()\n",
    "X_train = scaler.fit_transform(X_train)\n",
    "X_test = scaler.transform(X_test)"
   ]
  },
  {
   "cell_type": "markdown",
   "metadata": {},
   "source": [
    "## Logistic Regression with Ridge Regularization"
   ]
  },
  {
   "cell_type": "code",
   "execution_count": 11,
   "metadata": {},
   "outputs": [
    {
     "name": "stderr",
     "output_type": "stream",
     "text": [
      "/Library/Frameworks/Python.framework/Versions/3.10/lib/python3.10/site-packages/sklearn/linear_model/_logistic.py:460: ConvergenceWarning: lbfgs failed to converge (status=1):\n",
      "STOP: TOTAL NO. of ITERATIONS REACHED LIMIT.\n",
      "\n",
      "Increase the number of iterations (max_iter) or scale the data as shown in:\n",
      "    https://scikit-learn.org/stable/modules/preprocessing.html\n",
      "Please also refer to the documentation for alternative solver options:\n",
      "    https://scikit-learn.org/stable/modules/linear_model.html#logistic-regression\n",
      "  n_iter_i = _check_optimize_result(\n"
     ]
    }
   ],
   "source": [
    "# Create a logistic regression model with L2 regularization (ridge)\n",
    "model_log_ridge = LogisticRegression(penalty='l2', C=1.0)\n",
    "\n",
    "# Fit the model to the training data\n",
    "model_log_ridge.fit(X_train, y_train)\n",
    "\n",
    "# Make predictions on the test data\n",
    "y_pred_ridge = model_log_ridge.predict(X_test)\n",
    "\n",
    "# Calculate Accuracy\n",
    "accuracy_log_ridge = accuracy_score(y_test, y_pred_ridge)\n",
    "\n",
    "# Calculate f1 score\n",
    "f1_log_ridge = f1 = f1_score(y_test, y_pred_ridge, average='macro')\n",
    "\n",
    "# Calculate the mean absolute error\n",
    "mae_log_ridge = mean_absolute_error(y_test, y_pred_ridge)"
   ]
  },
  {
   "cell_type": "markdown",
   "metadata": {},
   "source": [
    "## Logistic Regression with LASSO"
   ]
  },
  {
   "cell_type": "code",
   "execution_count": 12,
   "metadata": {},
   "outputs": [],
   "source": [
    "# Create a logistic regression model with L1 regularization (Lasso)\n",
    "model_log_LASSO = LogisticRegression(penalty='l1', C=1.0, solver='liblinear')\n",
    "\n",
    "# Fit the model to the training data\n",
    "model_log_LASSO.fit(X_train, y_train)\n",
    "\n",
    "# Make predictions on the test data\n",
    "y_pred_lasso = model_log_LASSO.predict(X_test)\n",
    "\n",
    "# Calculate Accuracy\n",
    "accuracy_log_LASSO = accuracy_score(y_test, y_pred_lasso)\n",
    "\n",
    "# Calculate f1 score\n",
    "f1_log_LASSO = f1_score(y_test, y_pred_lasso, average='macro')\n",
    "\n",
    "# Calculate the mean absolute error\n",
    "mae_log_LASSO = mean_absolute_error(y_test, y_pred_lasso)"
   ]
  },
  {
   "cell_type": "markdown",
   "metadata": {},
   "source": [
    "## k-Nearest Neighbours"
   ]
  },
  {
   "cell_type": "code",
   "execution_count": 17,
   "metadata": {},
   "outputs": [
    {
     "name": "stdout",
     "output_type": "stream",
     "text": [
      "3\n",
      "6\n",
      "9\n",
      "12\n",
      "15\n",
      "18\n",
      "21\n",
      "24\n",
      "27\n",
      "Best k value: 27\n"
     ]
    }
   ],
   "source": [
    "# Define a range of k values to consider\n",
    "k_values = list(range(3, 30, 3)) \n",
    "\n",
    "# Create a kNN model\n",
    "knn = KNeighborsClassifier()\n",
    "\n",
    "best_k = None\n",
    "best_score = 0\n",
    "\n",
    "# Perform cross-validation for each k value\n",
    "for k in k_values:\n",
    "    knn.n_neighbors = k  # Set the k value\n",
    "    scores = cross_val_score(knn, X_train, y_train, cv=5, scoring='accuracy')\n",
    "    mean_score = scores.mean()\n",
    "\n",
    "    print(k)\n",
    "    \n",
    "    if mean_score > best_score:\n",
    "        best_score = mean_score\n",
    "        best_k = k\n",
    "\n",
    "print(\"Best k value:\", best_k)"
   ]
  },
  {
   "cell_type": "code",
   "execution_count": 19,
   "metadata": {},
   "outputs": [],
   "source": [
    "# Train the final model with the best k value\n",
    "final_knn = KNeighborsClassifier(n_neighbors=best_k)\n",
    "final_knn.fit(X_train, y_train)\n",
    "\n",
    "# Make predictions on the test data\n",
    "y_pred_knn = final_knn.predict(X_test)\n",
    "\n",
    "# Calculate Accuracy\n",
    "accuracy_knn = accuracy_score(y_test, y_pred_knn)\n",
    "\n",
    "# Calculate f1 score\n",
    "f1_knn = f1_score(y_test, y_pred_knn, average='macro')\n",
    "\n",
    "# Calculate the mean absolute error\n",
    "mae_knn = mean_absolute_error(y_test, y_pred_knn)"
   ]
  },
  {
   "cell_type": "code",
   "execution_count": 26,
   "metadata": {},
   "outputs": [
    {
     "name": "stdout",
     "output_type": "stream",
     "text": [
      "\u001b[1mAccuracy Comparison\u001b[0m\n",
      "Logistic Regression with Ridge Regularization: 0.20995833333333333\n",
      "Logistic Regression with LASSO: 0.20820833333333333\n",
      "k nearest Neighbours with k=27: 0.19495833333333334\n",
      "\n",
      "\u001b[1mMean Absolute Error Comparison\u001b[0m\n",
      "Logistic Regression with Ridge Regularization: 2.371208333333333\n",
      "Logistic Regression with LASSO: 2.391875\n",
      "k nearest Neighbours with k=27: 2.32725\n",
      "\n",
      "\u001b[1mF1 Score Comparison\u001b[0m\n",
      "Logistic Regression with Ridge Regularization: 0.18345070158125412\n",
      "Logistic Regression with LASSO: 0.18038430382932585\n",
      "k nearest Neighbours with k=27: 0.1831935665906388\n"
     ]
    }
   ],
   "source": [
    "print(\"\\033[1mAccuracy Comparison\\033[0m\")\n",
    "print(\"Logistic Regression with Ridge Regularization:\", accuracy_log_ridge)\n",
    "print(\"Logistic Regression with LASSO:\", accuracy_log_LASSO)\n",
    "print(\"k nearest Neighbours with k=27:\", accuracy_knn)\n",
    "\n",
    "print(\"\\n\\033[1mMean Absolute Error Comparison\\033[0m\")\n",
    "print(\"Logistic Regression with Ridge Regularization:\", mae_log_ridge)\n",
    "print(\"Logistic Regression with LASSO:\", mae_log_LASSO)\n",
    "print(\"k nearest Neighbours with k=27:\", mae_knn)\n",
    "\n",
    "print(\"\\n\\033[1mF1 Score Comparison\\033[0m\")\n",
    "print(\"Logistic Regression with Ridge Regularization:\", f1_log_ridge)\n",
    "print(\"Logistic Regression with LASSO:\", f1_log_LASSO)\n",
    "print(\"k nearest Neighbours with k=27:\", f1_knn)"
   ]
  },
  {
   "cell_type": "code",
   "execution_count": 27,
   "metadata": {},
   "outputs": [],
   "source": [
    "pickle.dump(model_log_ridge, open('models/log_reg_ridge.sav', 'wb'))\n",
    "pickle.dump(model_log_LASSO, open('models/log_reg_lasso.sav', 'wb'))\n",
    "pickle.dump(final_knn, open('models/knn_bestk_27.sav', 'wb'))"
   ]
  }
 ],
 "metadata": {
  "kernelspec": {
   "display_name": "Python 3 (ipykernel)",
   "language": "python",
   "name": "python3"
  },
  "language_info": {
   "codemirror_mode": {
    "name": "ipython",
    "version": 3
   },
   "file_extension": ".py",
   "mimetype": "text/x-python",
   "name": "python",
   "nbconvert_exporter": "python",
   "pygments_lexer": "ipython3",
   "version": "3.10.0"
  }
 },
 "nbformat": 4,
 "nbformat_minor": 4
}
