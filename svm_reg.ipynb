{
 "cells": [
  {
   "cell_type": "code",
   "execution_count": 1,
   "metadata": {},
   "outputs": [
    {
     "name": "stdout",
     "output_type": "stream",
     "text": [
      "Training SVR model...\n",
      "Model Evaluation Metrics:\n",
      "Mean Squared Error (MSE): 130.77112966668508\n",
      "Mean Absolute Error (MAE): 9.047670415633137\n",
      "R-squared (R2): 0.39710286842699993\n"
     ]
    }
   ],
   "source": [
    "import pandas as pd\n",
    "from sklearn.model_selection import train_test_split\n",
    "from sklearn.preprocessing import StandardScaler\n",
    "from sklearn.impute import SimpleImputer\n",
    "from sklearn.svm import SVR\n",
    "from sklearn.metrics import mean_squared_error, mean_absolute_error, r2_score\n",
    "\n",
    "df_train = pd.read_csv('/Users/vidushi/Desktop/MIT/Analytics edge/Analytics-Edge/data/new data/train_regression.csv')  # Replace with your train dataset path\n",
    "df_test = pd.read_csv('/Users/vidushi/Desktop/MIT/Analytics edge/Analytics-Edge/data/new data/test_regression.csv')    # Replace with your test dataset path\n",
    "df_train = df_train.head(150000)\n",
    "\n",
    "X_train = df_train.drop(columns=['popularity'])\n",
    "y_train = df_train['popularity']\n",
    "X_test = df_test.drop(columns=['popularity'])\n",
    "y_test = df_test['popularity']\n",
    "\n",
    "imputer = SimpleImputer(strategy='mean')\n",
    "X_train_imputed = imputer.fit_transform(X_train)\n",
    "X_test_imputed = imputer.transform(X_test)\n",
    "\n",
    "scaler = StandardScaler()\n",
    "X_train_scaled = scaler.fit_transform(X_train_imputed)\n",
    "X_test_scaled = scaler.transform(X_test_imputed)\n",
    "\n",
    "svr_model = SVR()\n",
    "\n",
    "print(\"Training SVR model...\")\n",
    "svr_model.fit(X_train_scaled, y_train)\n",
    "\n",
    "y_pred = svr_model.predict(X_test_scaled)\n",
    "\n",
    "mse = mean_squared_error(y_test, y_pred)\n",
    "mae = mean_absolute_error(y_test, y_pred)\n",
    "r2 = r2_score(y_test, y_pred)\n",
    "\n",
    "print(\"Model Evaluation Metrics:\")\n",
    "print(f\"Mean Squared Error (MSE): {mse}\")\n",
    "print(f\"Mean Absolute Error (MAE): {mae}\")\n",
    "print(f\"R-squared (R2): {r2}\")"
   ]
  },
  {
   "cell_type": "code",
   "execution_count": 2,
   "metadata": {},
   "outputs": [
    {
     "name": "stdout",
     "output_type": "stream",
     "text": [
      "Model saved successfully.\n"
     ]
    }
   ],
   "source": [
    "#saving model\n",
    "import pickle\n",
    "with open('svm_reg_200k.pkl', 'wb') as file:\n",
    "    pickle.dump(svr_model, file)\n",
    "\n",
    "print(\"Model saved successfully.\")"
   ]
  },
  {
   "cell_type": "code",
   "execution_count": 3,
   "metadata": {},
   "outputs": [
    {
     "name": "stdout",
     "output_type": "stream",
     "text": [
      "Training SVR model...\n",
      "Model Evaluation Metrics:\n",
      "Mean Squared Error (MSE): 129.90718311158494\n",
      "Mean Absolute Error (MAE): 9.005902217043564\n",
      "R-squared (R2): 0.4010859409998979\n"
     ]
    }
   ],
   "source": [
    "import pandas as pd\n",
    "from sklearn.model_selection import train_test_split\n",
    "from sklearn.preprocessing import StandardScaler\n",
    "from sklearn.impute import SimpleImputer\n",
    "from sklearn.svm import SVR\n",
    "from sklearn.metrics import mean_squared_error, mean_absolute_error, r2_score\n",
    "\n",
    "df_train = pd.read_csv('/Users/vidushi/Desktop/MIT/Analytics edge/Analytics-Edge/data/new data/train_regression.csv')  # Replace with your train dataset path\n",
    "df_test = pd.read_csv('/Users/vidushi/Desktop/MIT/Analytics edge/Analytics-Edge/data/new data/test_regression.csv')    # Replace with your test dataset path\n",
    "\n",
    "X_train = df_train.drop(columns=['popularity'])\n",
    "y_train = df_train['popularity']\n",
    "X_test = df_test.drop(columns=['popularity'])\n",
    "y_test = df_test['popularity']\n",
    "\n",
    "imputer = SimpleImputer(strategy='mean')\n",
    "X_train_imputed = imputer.fit_transform(X_train)\n",
    "X_test_imputed = imputer.transform(X_test)\n",
    "\n",
    "scaler = StandardScaler()\n",
    "X_train_scaled = scaler.fit_transform(X_train_imputed)\n",
    "X_test_scaled = scaler.transform(X_test_imputed)\n",
    "\n",
    "svr_model = SVR()\n",
    "\n",
    "print(\"Training SVR model...\")\n",
    "svr_model.fit(X_train_scaled, y_train)\n",
    "\n",
    "y_pred = svr_model.predict(X_test_scaled)\n",
    "\n",
    "mse = mean_squared_error(y_test, y_pred)\n",
    "mae = mean_absolute_error(y_test, y_pred)\n",
    "r2 = r2_score(y_test, y_pred)\n",
    "\n",
    "print(\"Model Evaluation Metrics:\")\n",
    "print(f\"Mean Squared Error (MSE): {mse}\")\n",
    "print(f\"Mean Absolute Error (MAE): {mae}\")\n",
    "print(f\"R-squared (R2): {r2}\")"
   ]
  },
  {
   "cell_type": "code",
   "execution_count": 4,
   "metadata": {},
   "outputs": [
    {
     "name": "stdout",
     "output_type": "stream",
     "text": [
      "Model saved successfully.\n"
     ]
    }
   ],
   "source": [
    "#saving model\n",
    "import pickle\n",
    "with open('full_svm.pkl', 'wb') as file:\n",
    "    pickle.dump(svr_model, file)\n",
    "\n",
    "print(\"Model saved successfully.\")"
   ]
  }
 ],
 "metadata": {
  "kernelspec": {
   "display_name": "Python 3",
   "language": "python",
   "name": "python3"
  },
  "language_info": {
   "codemirror_mode": {
    "name": "ipython",
    "version": 3
   },
   "file_extension": ".py",
   "mimetype": "text/x-python",
   "name": "python",
   "nbconvert_exporter": "python",
   "pygments_lexer": "ipython3",
   "version": "3.12.0"
  }
 },
 "nbformat": 4,
 "nbformat_minor": 2
}
